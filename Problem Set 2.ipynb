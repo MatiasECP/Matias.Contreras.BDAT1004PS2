{
 "cells": [
  {
   "cell_type": "markdown",
   "id": "1e4093e0",
   "metadata": {},
   "source": [
    "# Question 1"
   ]
  },
  {
   "cell_type": "code",
   "execution_count": 11,
   "id": "8c29ed7b",
   "metadata": {},
   "outputs": [
    {
     "name": "stdout",
     "output_type": "stream",
     "text": [
      "6\n",
      "explanation on the comments next to each b() execution\n"
     ]
    }
   ],
   "source": [
    "\"\"\"Consider the following Python module:\n",
    "    \n",
    "a = 0\n",
    "\n",
    "def b():\n",
    "    global a\n",
    "    a = c(a)\n",
    "def c(a):\n",
    "    return a + 2\n",
    "\n",
    "After importing the module into the interpreter, you execute:\n",
    ">>> b()\n",
    ">>> b()\n",
    ">>> b()\n",
    ">>> a\n",
    "?\n",
    "What value is displayed when the last expression (a) \n",
    "is evaluated? Explain your answer by indicating what happens in every executed statement.\n",
    "\"\"\"\n",
    "\n",
    "a = 0\n",
    "\n",
    "def b():\n",
    "    global a\n",
    "    a = c(a)\n",
    "def c(a):\n",
    "    return a + 2\n",
    "\n",
    "b()       # b() sets a as a global variable, so the value will remain on a global scope\n",
    "          # b() function calls c() and takes 'a' as a parameter. a + 2 = 2\n",
    "    \n",
    "b()       #now global a equals 2, and we execute b() again, so global a = 2 + 2 = 4\n",
    "\n",
    "b()       #now our global a equals 4 as a result of the second b() execution\n",
    "          #b() calls c() and global a = 4 + 2 = 6\n",
    "     \n",
    "a         #global a = 6\n",
    "\n",
    "print(a)\n",
    "print('explanation on the comments next to each b() execution')"
   ]
  },
  {
   "cell_type": "markdown",
   "id": "333ee3c1",
   "metadata": {},
   "source": [
    "# Question 2"
   ]
  },
  {
   "cell_type": "code",
   "execution_count": 21,
   "id": "7bf7fe7d",
   "metadata": {},
   "outputs": [],
   "source": [
    "def file_length2(file_name):\n",
    "    \n",
    "    try:                          #add try before the block code to handle errors\n",
    "        file = open(file_name)\n",
    "        contents = file.read()\n",
    "        file.close()\n",
    "        print(len(contents))\n",
    "        \n",
    "    except FileNotFoundError:    #add exception for FileNotFoundError, so it the input is not valid, the program won't crash\n",
    "        \n",
    "        print('I am sorry, file \"{}\" is not found. This is an exception'.format(file_name))\n",
    "        \n"
   ]
  },
  {
   "cell_type": "code",
   "execution_count": 22,
   "id": "71492e46",
   "metadata": {},
   "outputs": [
    {
     "name": "stdout",
     "output_type": "stream",
     "text": [
      "123\n",
      "I am sorry, file \"midterm.py\" is not found. This is an exception\n"
     ]
    }
   ],
   "source": [
    "file_length2('problemSet2.txt')  #real file to text the function. Result  123\n",
    "file_length2('midterm.py')       #input to call the exception"
   ]
  },
  {
   "cell_type": "markdown",
   "id": "5fbb736f",
   "metadata": {},
   "source": [
    "# Question 3"
   ]
  },
  {
   "cell_type": "code",
   "execution_count": 50,
   "id": "8b40f665",
   "metadata": {},
   "outputs": [],
   "source": [
    "class Marsupial :\n",
    "    \n",
    "    def __init__(self, pouch = []):\n",
    "        \n",
    "        self.pouch = pouch              #create an empty list to store items on pouch\n",
    "             \n",
    "    def put_in_pouch(self,str):    \n",
    "        \n",
    "        self.pouch.append(str)          #method to add items to the pouch using append()\n",
    "        \n",
    "    def pouch_contents(self):\n",
    "        \n",
    "        print(self.pouch)               #method to show the pouch's contents\n",
    "    \n",
    "    \n",
    "class Kangaroo(Marsupial) :\n",
    "    \n",
    "    def __init__(self, xcoord=0, ycoord=0):   #init method to store coordinates\n",
    "        self.x = xcoord\n",
    "        self.y = ycoord \n",
    "        \n",
    "        Marsupial.__init__(self)             #inherit the __init__() from the superclass Marsupial to retrieve the pouch\n",
    "        \n",
    "        self.pouch = []                      #Empty the list. If not, it will bring up the previous elements from Marsupial\n",
    "        \n",
    "    def setx(self, xcoord):                   #set x coordinate if needed\n",
    "        self.x = xcoord\n",
    "        \n",
    "    def sety(self, ycoord):                   #set y coordinate if needed\n",
    "        self.y = ycoord\n",
    "\n",
    "    def jump (self, xcoord, ycoord) :        #alter the coordinates according to new parameters\n",
    "        self.x += xcoord\n",
    "        self.y += ycoord   \n",
    "        \n",
    "    def get(self):                            #return x and y\n",
    "        return(self.x, self.y)\n",
    "    \n",
    "    def __str__(self):                       #method to represent class Kangaroo in a string, taking all outputs from the functions\n",
    "                                             #within the class\n",
    "        return 'I am a Kangaroo located at coordinates({}, {})'.format(self.x, self.y)\n",
    "    \n"
   ]
  },
  {
   "cell_type": "code",
   "execution_count": 51,
   "id": "326680a3",
   "metadata": {},
   "outputs": [
    {
     "name": "stdout",
     "output_type": "stream",
     "text": [
      "['doll', 'firetruck', 'kitten']\n"
     ]
    }
   ],
   "source": [
    "m = Marsupial()\n",
    "\n",
    "m.put_in_pouch('doll')\n",
    "m.put_in_pouch('firetruck')\n",
    "m.put_in_pouch('kitten')\n",
    "\n",
    "m.pouch_contents()"
   ]
  },
  {
   "cell_type": "code",
   "execution_count": 54,
   "id": "8063a0f0",
   "metadata": {},
   "outputs": [
    {
     "name": "stdout",
     "output_type": "stream",
     "text": [
      "I am a Kangaroo located at coordinates(0, 0)\n",
      "['doll', 'firetruck', 'kitten']\n",
      "I am a Kangaroo located at coordinates(3, 0)\n"
     ]
    }
   ],
   "source": [
    "k = Kangaroo(0,0)\n",
    "\n",
    "print(k)\n",
    "\n",
    "k.put_in_pouch('doll') \n",
    "k.put_in_pouch('firetruck')\n",
    "k.put_in_pouch('kitten')\n",
    "\n",
    "k.pouch_contents()\n",
    "\n",
    "k.jump(1,0)\n",
    "k.jump(1,0)\n",
    "k.jump(1,0)\n",
    "print(k)"
   ]
  },
  {
   "cell_type": "markdown",
   "id": "69cd155a",
   "metadata": {},
   "source": [
    "# Question 4"
   ]
  },
  {
   "cell_type": "code",
   "execution_count": 40,
   "id": "41377bcb",
   "metadata": {},
   "outputs": [],
   "source": [
    "def collatz(x) :\n",
    "\n",
    "    if x > 1 :                     #if the number is greater than 1, enter to the recursion\n",
    "        if x%2 == 0:               #if the number is even, then print it, and call collatz again but x divided by 2\n",
    "            print(x)               #the function will go over and over until x is no longer greater than 1, and prints x\n",
    "            collatz(x/2)\n",
    "        else :\n",
    "            collatz((x*3+1))       #if the number is odd (not even), calls collatz again with x multiplied by 3 + 1\n",
    "    else :\n",
    "        print(x)   \n"
   ]
  },
  {
   "cell_type": "code",
   "execution_count": 41,
   "id": "041eccd9",
   "metadata": {
    "scrolled": false
   },
   "outputs": [
    {
     "name": "stdout",
     "output_type": "stream",
     "text": [
      "1\n"
     ]
    }
   ],
   "source": [
    "collatz(1)"
   ]
  },
  {
   "cell_type": "code",
   "execution_count": 42,
   "id": "b4eb3882",
   "metadata": {},
   "outputs": [
    {
     "name": "stdout",
     "output_type": "stream",
     "text": [
      "10\n",
      "16.0\n",
      "8.0\n",
      "4.0\n",
      "2.0\n",
      "1.0\n"
     ]
    }
   ],
   "source": [
    "collatz(10)"
   ]
  },
  {
   "cell_type": "markdown",
   "id": "6056ff60",
   "metadata": {},
   "source": [
    "# Question 5"
   ]
  },
  {
   "cell_type": "code",
   "execution_count": 103,
   "id": "005d65c2",
   "metadata": {},
   "outputs": [],
   "source": [
    "    def binary(x) :\n",
    "\n",
    "        if x == 0:                      #this covers a potential input of 0\n",
    "            return x \n",
    "                                        #example binary(3)\n",
    "        elif x >= 1:                    #3 is greater than 1 so binary (3//2) = 1 gets activated\n",
    "            binary(x // 2)              #binary(1) is equal than 1 so binary(1//2) = 0 gets activated\n",
    "            print (x % 2,end='')        #binary(0) is smaller than 1, so the recursion goes back to binary(1)\n",
    "                                        #binary(1) prints 1 modulus 2 = 1 and goes back to binary(3)\n",
    "                                        #binary(3) prints 3 modulus 2 = 1 and finished the recursion."
   ]
  },
  {
   "cell_type": "code",
   "execution_count": 104,
   "id": "0f816ea6",
   "metadata": {},
   "outputs": [
    {
     "data": {
      "text/plain": [
       "0"
      ]
     },
     "execution_count": 104,
     "metadata": {},
     "output_type": "execute_result"
    }
   ],
   "source": [
    "binary(0)"
   ]
  },
  {
   "cell_type": "code",
   "execution_count": 105,
   "id": "473ed961",
   "metadata": {},
   "outputs": [
    {
     "name": "stdout",
     "output_type": "stream",
     "text": [
      "1"
     ]
    }
   ],
   "source": [
    "binary(1)"
   ]
  },
  {
   "cell_type": "code",
   "execution_count": 106,
   "id": "b8702160",
   "metadata": {},
   "outputs": [
    {
     "name": "stdout",
     "output_type": "stream",
     "text": [
      "11"
     ]
    }
   ],
   "source": [
    "binary(3)"
   ]
  },
  {
   "cell_type": "code",
   "execution_count": 107,
   "id": "b12d649e",
   "metadata": {},
   "outputs": [
    {
     "name": "stdout",
     "output_type": "stream",
     "text": [
      "1001"
     ]
    }
   ],
   "source": [
    "binary(9)"
   ]
  },
  {
   "cell_type": "markdown",
   "id": "e11a142c",
   "metadata": {},
   "source": [
    "# Question 6 and 7\n",
    "Sorry. I have gone through the material but I still need more time to understand these concepts. I will get it ready for later assignments/tests"
   ]
  },
  {
   "cell_type": "markdown",
   "id": "ca861f37",
   "metadata": {},
   "source": [
    "# Question 8"
   ]
  },
  {
   "cell_type": "code",
   "execution_count": 140,
   "id": "4104c632",
   "metadata": {},
   "outputs": [
    {
     "name": "stdout",
     "output_type": "stream",
     "text": [
      "Requirement already satisfied: ipython-sql in c:\\users\\mrmat\\anaconda3\\lib\\site-packages (0.4.0)\n",
      "Requirement already satisfied: six in c:\\users\\mrmat\\anaconda3\\lib\\site-packages (from ipython-sql) (1.15.0)\n",
      "Requirement already satisfied: ipython-genutils>=0.1.0 in c:\\users\\mrmat\\anaconda3\\lib\\site-packages (from ipython-sql) (0.2.0)\n",
      "Requirement already satisfied: sqlalchemy>=0.6.7 in c:\\users\\mrmat\\anaconda3\\lib\\site-packages (from ipython-sql) (1.4.7)\n",
      "Requirement already satisfied: ipython>=1.0 in c:\\users\\mrmat\\anaconda3\\lib\\site-packages (from ipython-sql) (7.22.0)\n",
      "Requirement already satisfied: sqlparse in c:\\users\\mrmat\\anaconda3\\lib\\site-packages (from ipython-sql) (0.4.1)\n",
      "Requirement already satisfied: prettytable<1 in c:\\users\\mrmat\\anaconda3\\lib\\site-packages (from ipython-sql) (0.7.2)\n",
      "Requirement already satisfied: backcall in c:\\users\\mrmat\\anaconda3\\lib\\site-packages (from ipython>=1.0->ipython-sql) (0.2.0)\n",
      "Requirement already satisfied: prompt-toolkit!=3.0.0,!=3.0.1,<3.1.0,>=2.0.0 in c:\\users\\mrmat\\anaconda3\\lib\\site-packages (from ipython>=1.0->ipython-sql) (3.0.17)\n",
      "Requirement already satisfied: jedi>=0.16 in c:\\users\\mrmat\\anaconda3\\lib\\site-packages (from ipython>=1.0->ipython-sql) (0.17.2)\n",
      "Requirement already satisfied: decorator in c:\\users\\mrmat\\anaconda3\\lib\\site-packages (from ipython>=1.0->ipython-sql) (5.0.6)\n",
      "Requirement already satisfied: pickleshare in c:\\users\\mrmat\\anaconda3\\lib\\site-packages (from ipython>=1.0->ipython-sql) (0.7.5)\n",
      "Requirement already satisfied: traitlets>=4.2 in c:\\users\\mrmat\\anaconda3\\lib\\site-packages (from ipython>=1.0->ipython-sql) (5.0.5)\n",
      "Requirement already satisfied: colorama in c:\\users\\mrmat\\anaconda3\\lib\\site-packages (from ipython>=1.0->ipython-sql) (0.4.4)\n",
      "Requirement already satisfied: setuptools>=18.5 in c:\\users\\mrmat\\anaconda3\\lib\\site-packages (from ipython>=1.0->ipython-sql) (52.0.0.post20210125)\n",
      "Requirement already satisfied: pygments in c:\\users\\mrmat\\anaconda3\\lib\\site-packages (from ipython>=1.0->ipython-sql) (2.8.1)\n",
      "Requirement already satisfied: parso<0.8.0,>=0.7.0 in c:\\users\\mrmat\\anaconda3\\lib\\site-packages (from jedi>=0.16->ipython>=1.0->ipython-sql) (0.7.0)\n",
      "Requirement already satisfied: wcwidth in c:\\users\\mrmat\\anaconda3\\lib\\site-packages (from prompt-toolkit!=3.0.0,!=3.0.1,<3.1.0,>=2.0.0->ipython>=1.0->ipython-sql) (0.2.5)\n",
      "Requirement already satisfied: greenlet!=0.4.17 in c:\\users\\mrmat\\anaconda3\\lib\\site-packages (from sqlalchemy>=0.6.7->ipython-sql) (1.0.0)\n"
     ]
    }
   ],
   "source": [
    "!pip install ipython-sql"
   ]
  },
  {
   "cell_type": "code",
   "execution_count": 146,
   "id": "dc624165",
   "metadata": {},
   "outputs": [],
   "source": [
    "%%capture\n",
    "%load_ext sql\n",
    "%sql sqlite:///chinook.db\n",
    "    \n",
    "#retrieved from https://community.dataquest.io/t/guided-sql-project-error-cell-magic-sql-not-found/348678/2"
   ]
  },
  {
   "cell_type": "code",
   "execution_count": null,
   "id": "1492c396",
   "metadata": {},
   "outputs": [],
   "source": [
    "%%sql\n",
    "CREATE TABLE WeatherReport3\n",
    "(\n",
    "    city         VARCHAR(200),     \n",
    "    country      VARCHAR(200),\n",
    "    season       VARCHAR(200),\n",
    "    temperature  FLOAT,\n",
    "    rainfall     FLOAT\n",
    ")\n",
    "\n"
   ]
  },
  {
   "cell_type": "code",
   "execution_count": null,
   "id": "8328e27f",
   "metadata": {},
   "outputs": [],
   "source": [
    "%%sql\n",
    "INSERT INTO WeatherReport3 (city, country, season,temperature, rainfall)\n",
    "\n",
    "VALUES\n",
    " ('Mumbai', 'India', 'Winter', 24.8, 5.9),\n",
    " ('Mumbai', 'India', 'Spring', 28.4, 16.2),\n",
    " ('Mumbai', 'India', 'Summer', 27.9, 1549.4),\n",
    " ('Mumbai', 'India', 'Fall', 27.6, 346),\n",
    " ('London', 'United Kingdom', 'Winter', 4.2, 207.7),\n",
    " ('London', 'United Kingdom', 'Spring', 8.3, 169.6),\n",
    " ('London', 'United Kingdom', 'Summer', 15.7, 157),\n",
    " ('London', 'United Kingdom', 'Fall', 10.4, 218.5),\n",
    " ('Cairo', 'Egypt', 'Winter', 13.6, 16.5),\n",
    " ('Cairo', 'Egypt', 'Spring', 20.7, 6.5),\n",
    " ('Cairo', 'Egypt', 'Summer', 27.7, 0.1),\n",
    " ('Cairo', 'Egypt', 'Fall', 22.2, 4.5)"
   ]
  },
  {
   "cell_type": "code",
   "execution_count": 185,
   "id": "fa888281",
   "metadata": {},
   "outputs": [
    {
     "name": "stdout",
     "output_type": "stream",
     "text": [
      " * sqlite:///chinook.db\n",
      "Done.\n"
     ]
    },
    {
     "data": {
      "text/html": [
       "<table>\n",
       "    <tr>\n",
       "        <th>city</th>\n",
       "        <th>country</th>\n",
       "        <th>season</th>\n",
       "        <th>temperature</th>\n",
       "        <th>rainfall</th>\n",
       "    </tr>\n",
       "    <tr>\n",
       "        <td>Mumbai</td>\n",
       "        <td>India</td>\n",
       "        <td>Winter</td>\n",
       "        <td>24.8</td>\n",
       "        <td>5.9</td>\n",
       "    </tr>\n",
       "    <tr>\n",
       "        <td>Mumbai</td>\n",
       "        <td>India</td>\n",
       "        <td>Spring</td>\n",
       "        <td>28.4</td>\n",
       "        <td>16.2</td>\n",
       "    </tr>\n",
       "    <tr>\n",
       "        <td>Mumbai</td>\n",
       "        <td>India</td>\n",
       "        <td>Summer</td>\n",
       "        <td>27.9</td>\n",
       "        <td>1549.4</td>\n",
       "    </tr>\n",
       "    <tr>\n",
       "        <td>Mumbai</td>\n",
       "        <td>India</td>\n",
       "        <td>Fall</td>\n",
       "        <td>27.6</td>\n",
       "        <td>346.0</td>\n",
       "    </tr>\n",
       "    <tr>\n",
       "        <td>London</td>\n",
       "        <td>United Kingdom</td>\n",
       "        <td>Winter</td>\n",
       "        <td>4.2</td>\n",
       "        <td>207.7</td>\n",
       "    </tr>\n",
       "    <tr>\n",
       "        <td>London</td>\n",
       "        <td>United Kingdom</td>\n",
       "        <td>Spring</td>\n",
       "        <td>8.3</td>\n",
       "        <td>169.6</td>\n",
       "    </tr>\n",
       "    <tr>\n",
       "        <td>London</td>\n",
       "        <td>United Kingdom</td>\n",
       "        <td>Summer</td>\n",
       "        <td>15.7</td>\n",
       "        <td>157.0</td>\n",
       "    </tr>\n",
       "    <tr>\n",
       "        <td>London</td>\n",
       "        <td>United Kingdom</td>\n",
       "        <td>Fall</td>\n",
       "        <td>10.4</td>\n",
       "        <td>218.5</td>\n",
       "    </tr>\n",
       "    <tr>\n",
       "        <td>Cairo</td>\n",
       "        <td>Egypt</td>\n",
       "        <td>Winter</td>\n",
       "        <td>13.6</td>\n",
       "        <td>16.5</td>\n",
       "    </tr>\n",
       "    <tr>\n",
       "        <td>Cairo</td>\n",
       "        <td>Egypt</td>\n",
       "        <td>Spring</td>\n",
       "        <td>20.7</td>\n",
       "        <td>6.5</td>\n",
       "    </tr>\n",
       "    <tr>\n",
       "        <td>Cairo</td>\n",
       "        <td>Egypt</td>\n",
       "        <td>Summer</td>\n",
       "        <td>27.7</td>\n",
       "        <td>0.1</td>\n",
       "    </tr>\n",
       "    <tr>\n",
       "        <td>Cairo</td>\n",
       "        <td>Egypt</td>\n",
       "        <td>Fall</td>\n",
       "        <td>22.2</td>\n",
       "        <td>4.5</td>\n",
       "    </tr>\n",
       "</table>"
      ],
      "text/plain": [
       "[('Mumbai', 'India', 'Winter', 24.8, 5.9),\n",
       " ('Mumbai', 'India', 'Spring', 28.4, 16.2),\n",
       " ('Mumbai', 'India', 'Summer', 27.9, 1549.4),\n",
       " ('Mumbai', 'India', 'Fall', 27.6, 346.0),\n",
       " ('London', 'United Kingdom', 'Winter', 4.2, 207.7),\n",
       " ('London', 'United Kingdom', 'Spring', 8.3, 169.6),\n",
       " ('London', 'United Kingdom', 'Summer', 15.7, 157.0),\n",
       " ('London', 'United Kingdom', 'Fall', 10.4, 218.5),\n",
       " ('Cairo', 'Egypt', 'Winter', 13.6, 16.5),\n",
       " ('Cairo', 'Egypt', 'Spring', 20.7, 6.5),\n",
       " ('Cairo', 'Egypt', 'Summer', 27.7, 0.1),\n",
       " ('Cairo', 'Egypt', 'Fall', 22.2, 4.5)]"
      ]
     },
     "execution_count": 185,
     "metadata": {},
     "output_type": "execute_result"
    }
   ],
   "source": [
    "%%sql\n",
    "select * from WeatherReport3"
   ]
  },
  {
   "cell_type": "markdown",
   "id": "d3673f18",
   "metadata": {},
   "source": [
    "# 8. a"
   ]
  },
  {
   "cell_type": "code",
   "execution_count": 186,
   "id": "72b08dbf",
   "metadata": {},
   "outputs": [
    {
     "name": "stdout",
     "output_type": "stream",
     "text": [
      " * sqlite:///chinook.db\n",
      "Done.\n"
     ]
    },
    {
     "data": {
      "text/html": [
       "<table>\n",
       "    <tr>\n",
       "        <th>temperature</th>\n",
       "    </tr>\n",
       "    <tr>\n",
       "        <td>24.8</td>\n",
       "    </tr>\n",
       "    <tr>\n",
       "        <td>28.4</td>\n",
       "    </tr>\n",
       "    <tr>\n",
       "        <td>27.9</td>\n",
       "    </tr>\n",
       "    <tr>\n",
       "        <td>27.6</td>\n",
       "    </tr>\n",
       "    <tr>\n",
       "        <td>4.2</td>\n",
       "    </tr>\n",
       "    <tr>\n",
       "        <td>8.3</td>\n",
       "    </tr>\n",
       "    <tr>\n",
       "        <td>15.7</td>\n",
       "    </tr>\n",
       "    <tr>\n",
       "        <td>10.4</td>\n",
       "    </tr>\n",
       "    <tr>\n",
       "        <td>13.6</td>\n",
       "    </tr>\n",
       "    <tr>\n",
       "        <td>20.7</td>\n",
       "    </tr>\n",
       "    <tr>\n",
       "        <td>27.7</td>\n",
       "    </tr>\n",
       "    <tr>\n",
       "        <td>22.2</td>\n",
       "    </tr>\n",
       "</table>"
      ],
      "text/plain": [
       "[(24.8,),\n",
       " (28.4,),\n",
       " (27.9,),\n",
       " (27.6,),\n",
       " (4.2,),\n",
       " (8.3,),\n",
       " (15.7,),\n",
       " (10.4,),\n",
       " (13.6,),\n",
       " (20.7,),\n",
       " (27.7,),\n",
       " (22.2,)]"
      ]
     },
     "execution_count": 186,
     "metadata": {},
     "output_type": "execute_result"
    }
   ],
   "source": [
    "%%sql\n",
    "\n",
    "SELECT temperature FROM WeatherReport3\n",
    "\n"
   ]
  },
  {
   "cell_type": "markdown",
   "id": "6e7d6c8c",
   "metadata": {},
   "source": [
    "# 8.b"
   ]
  },
  {
   "cell_type": "code",
   "execution_count": 187,
   "id": "3dac1530",
   "metadata": {},
   "outputs": [
    {
     "name": "stdout",
     "output_type": "stream",
     "text": [
      " * sqlite:///chinook.db\n",
      "Done.\n"
     ]
    },
    {
     "data": {
      "text/html": [
       "<table>\n",
       "    <tr>\n",
       "        <th>city</th>\n",
       "    </tr>\n",
       "    <tr>\n",
       "        <td>Mumbai</td>\n",
       "    </tr>\n",
       "    <tr>\n",
       "        <td>London</td>\n",
       "    </tr>\n",
       "    <tr>\n",
       "        <td>Cairo</td>\n",
       "    </tr>\n",
       "</table>"
      ],
      "text/plain": [
       "[('Mumbai',), ('London',), ('Cairo',)]"
      ]
     },
     "execution_count": 187,
     "metadata": {},
     "output_type": "execute_result"
    }
   ],
   "source": [
    "%%sql\n",
    "SELECT DISTINCT city FROM WeatherReport3"
   ]
  },
  {
   "cell_type": "markdown",
   "id": "d11942bc",
   "metadata": {},
   "source": [
    "# 8.c"
   ]
  },
  {
   "cell_type": "code",
   "execution_count": 188,
   "id": "a4c7a8b1",
   "metadata": {},
   "outputs": [
    {
     "name": "stdout",
     "output_type": "stream",
     "text": [
      " * sqlite:///chinook.db\n",
      "Done.\n"
     ]
    },
    {
     "data": {
      "text/html": [
       "<table>\n",
       "    <tr>\n",
       "        <th>city</th>\n",
       "        <th>country</th>\n",
       "        <th>season</th>\n",
       "        <th>temperature</th>\n",
       "        <th>rainfall</th>\n",
       "    </tr>\n",
       "    <tr>\n",
       "        <td>Mumbai</td>\n",
       "        <td>India</td>\n",
       "        <td>Winter</td>\n",
       "        <td>24.8</td>\n",
       "        <td>5.9</td>\n",
       "    </tr>\n",
       "    <tr>\n",
       "        <td>Mumbai</td>\n",
       "        <td>India</td>\n",
       "        <td>Spring</td>\n",
       "        <td>28.4</td>\n",
       "        <td>16.2</td>\n",
       "    </tr>\n",
       "    <tr>\n",
       "        <td>Mumbai</td>\n",
       "        <td>India</td>\n",
       "        <td>Summer</td>\n",
       "        <td>27.9</td>\n",
       "        <td>1549.4</td>\n",
       "    </tr>\n",
       "    <tr>\n",
       "        <td>Mumbai</td>\n",
       "        <td>India</td>\n",
       "        <td>Fall</td>\n",
       "        <td>27.6</td>\n",
       "        <td>346.0</td>\n",
       "    </tr>\n",
       "</table>"
      ],
      "text/plain": [
       "[('Mumbai', 'India', 'Winter', 24.8, 5.9),\n",
       " ('Mumbai', 'India', 'Spring', 28.4, 16.2),\n",
       " ('Mumbai', 'India', 'Summer', 27.9, 1549.4),\n",
       " ('Mumbai', 'India', 'Fall', 27.6, 346.0)]"
      ]
     },
     "execution_count": 188,
     "metadata": {},
     "output_type": "execute_result"
    }
   ],
   "source": [
    "%%sql\n",
    "SELECT * FROM WeatherReport3 \n",
    "WHERE country = 'India';"
   ]
  },
  {
   "cell_type": "markdown",
   "id": "185ddf33",
   "metadata": {},
   "source": [
    " # 8.d"
   ]
  },
  {
   "cell_type": "code",
   "execution_count": 189,
   "id": "cb7e9c00",
   "metadata": {},
   "outputs": [
    {
     "name": "stdout",
     "output_type": "stream",
     "text": [
      " * sqlite:///chinook.db\n",
      "Done.\n"
     ]
    },
    {
     "data": {
      "text/html": [
       "<table>\n",
       "    <tr>\n",
       "        <th>season</th>\n",
       "    </tr>\n",
       "    <tr>\n",
       "        <td>Fall</td>\n",
       "    </tr>\n",
       "    <tr>\n",
       "        <td>Fall</td>\n",
       "    </tr>\n",
       "    <tr>\n",
       "        <td>Fall</td>\n",
       "    </tr>\n",
       "</table>"
      ],
      "text/plain": [
       "[('Fall',), ('Fall',), ('Fall',)]"
      ]
     },
     "execution_count": 189,
     "metadata": {},
     "output_type": "execute_result"
    }
   ],
   "source": [
    "%%sql\n",
    "SELECT season FROM WeatherReport3 \n",
    "WHERE season = 'Fall'\n"
   ]
  },
  {
   "cell_type": "markdown",
   "id": "cbdeb46a",
   "metadata": {},
   "source": [
    "# 8.e"
   ]
  },
  {
   "cell_type": "code",
   "execution_count": 194,
   "id": "c92167e6",
   "metadata": {},
   "outputs": [
    {
     "name": "stdout",
     "output_type": "stream",
     "text": [
      " * sqlite:///chinook.db\n",
      "Done.\n"
     ]
    },
    {
     "data": {
      "text/html": [
       "<table>\n",
       "    <tr>\n",
       "        <th>city</th>\n",
       "        <th>country</th>\n",
       "        <th>season</th>\n",
       "    </tr>\n",
       "    <tr>\n",
       "        <td>Mumbai</td>\n",
       "        <td>India</td>\n",
       "        <td>Fall</td>\n",
       "    </tr>\n",
       "    <tr>\n",
       "        <td>London</td>\n",
       "        <td>United Kingdom</td>\n",
       "        <td>Winter</td>\n",
       "    </tr>\n",
       "    <tr>\n",
       "        <td>London</td>\n",
       "        <td>United Kingdom</td>\n",
       "        <td>Fall</td>\n",
       "    </tr>\n",
       "</table>"
      ],
      "text/plain": [
       "[('Mumbai', 'India', 'Fall'),\n",
       " ('London', 'United Kingdom', 'Winter'),\n",
       " ('London', 'United Kingdom', 'Fall')]"
      ]
     },
     "execution_count": 194,
     "metadata": {},
     "output_type": "execute_result"
    }
   ],
   "source": [
    "%%sql\n",
    "SELECT city, country, season FROM WeatherReport3 \n",
    "WHERE rainfall>= 200 and rainfall <= 400"
   ]
  },
  {
   "cell_type": "markdown",
   "id": "2ecf5b63",
   "metadata": {},
   "source": [
    "# 8.f"
   ]
  },
  {
   "cell_type": "code",
   "execution_count": 196,
   "id": "277daac2",
   "metadata": {},
   "outputs": [
    {
     "name": "stdout",
     "output_type": "stream",
     "text": [
      " * sqlite:///chinook.db\n",
      "Done.\n"
     ]
    },
    {
     "data": {
      "text/html": [
       "<table>\n",
       "    <tr>\n",
       "        <th>city</th>\n",
       "        <th>country</th>\n",
       "        <th>temperature</th>\n",
       "    </tr>\n",
       "    <tr>\n",
       "        <td>Cairo</td>\n",
       "        <td>Egypt</td>\n",
       "        <td>20.7</td>\n",
       "    </tr>\n",
       "    <tr>\n",
       "        <td>Cairo</td>\n",
       "        <td>Egypt</td>\n",
       "        <td>22.2</td>\n",
       "    </tr>\n",
       "    <tr>\n",
       "        <td>Mumbai</td>\n",
       "        <td>India</td>\n",
       "        <td>24.8</td>\n",
       "    </tr>\n",
       "    <tr>\n",
       "        <td>Mumbai</td>\n",
       "        <td>India</td>\n",
       "        <td>27.6</td>\n",
       "    </tr>\n",
       "    <tr>\n",
       "        <td>Cairo</td>\n",
       "        <td>Egypt</td>\n",
       "        <td>27.7</td>\n",
       "    </tr>\n",
       "    <tr>\n",
       "        <td>Mumbai</td>\n",
       "        <td>India</td>\n",
       "        <td>27.9</td>\n",
       "    </tr>\n",
       "    <tr>\n",
       "        <td>Mumbai</td>\n",
       "        <td>India</td>\n",
       "        <td>28.4</td>\n",
       "    </tr>\n",
       "</table>"
      ],
      "text/plain": [
       "[('Cairo', 'Egypt', 20.7),\n",
       " ('Cairo', 'Egypt', 22.2),\n",
       " ('Mumbai', 'India', 24.8),\n",
       " ('Mumbai', 'India', 27.6),\n",
       " ('Cairo', 'Egypt', 27.7),\n",
       " ('Mumbai', 'India', 27.9),\n",
       " ('Mumbai', 'India', 28.4)]"
      ]
     },
     "execution_count": 196,
     "metadata": {},
     "output_type": "execute_result"
    }
   ],
   "source": [
    "%%sql\n",
    "SELECT city, country, temperature FROM WeatherReport3 \n",
    "WHERE temperature >= 20 \n",
    "\n",
    "ORDER BY temperature ASC"
   ]
  },
  {
   "cell_type": "markdown",
   "id": "5366d3b0",
   "metadata": {},
   "source": [
    "# 8.g"
   ]
  },
  {
   "cell_type": "code",
   "execution_count": 198,
   "id": "5cb6fd03",
   "metadata": {},
   "outputs": [
    {
     "name": "stdout",
     "output_type": "stream",
     "text": [
      " * sqlite:///chinook.db\n",
      "Done.\n"
     ]
    },
    {
     "data": {
      "text/html": [
       "<table>\n",
       "    <tr>\n",
       "        <th>SUM(rainfall)</th>\n",
       "    </tr>\n",
       "    <tr>\n",
       "        <td>27.6</td>\n",
       "    </tr>\n",
       "</table>"
      ],
      "text/plain": [
       "[(27.6,)]"
      ]
     },
     "execution_count": 198,
     "metadata": {},
     "output_type": "execute_result"
    }
   ],
   "source": [
    "%%sql\n",
    "SELECT SUM(rainfall) FROM WeatherReport3 \n",
    "WHERE city = 'Cairo'"
   ]
  },
  {
   "cell_type": "markdown",
   "id": "62bc4443",
   "metadata": {},
   "source": [
    "# 8.h"
   ]
  },
  {
   "cell_type": "code",
   "execution_count": 208,
   "id": "68a30db2",
   "metadata": {},
   "outputs": [
    {
     "name": "stdout",
     "output_type": "stream",
     "text": [
      " * sqlite:///chinook.db\n",
      "Done.\n"
     ]
    },
    {
     "data": {
      "text/html": [
       "<table>\n",
       "    <tr>\n",
       "        <th>season</th>\n",
       "        <th>SUM(rainfall)</th>\n",
       "    </tr>\n",
       "    <tr>\n",
       "        <td>Fall</td>\n",
       "        <td>569.0</td>\n",
       "    </tr>\n",
       "    <tr>\n",
       "        <td>Spring</td>\n",
       "        <td>192.29999999999998</td>\n",
       "    </tr>\n",
       "    <tr>\n",
       "        <td>Summer</td>\n",
       "        <td>1706.5</td>\n",
       "    </tr>\n",
       "    <tr>\n",
       "        <td>Winter</td>\n",
       "        <td>230.1</td>\n",
       "    </tr>\n",
       "</table>"
      ],
      "text/plain": [
       "[('Fall', 569.0),\n",
       " ('Spring', 192.29999999999998),\n",
       " ('Summer', 1706.5),\n",
       " ('Winter', 230.1)]"
      ]
     },
     "execution_count": 208,
     "metadata": {},
     "output_type": "execute_result"
    }
   ],
   "source": [
    "%%sql\n",
    "SELECT season,SUM(rainfall) FROM WeatherReport3\n",
    "GROUP BY season\n"
   ]
  },
  {
   "cell_type": "markdown",
   "id": "5826977e",
   "metadata": {},
   "source": [
    "# Question 9"
   ]
  },
  {
   "cell_type": "markdown",
   "id": "ffa26703",
   "metadata": {},
   "source": [
    "# 9.a"
   ]
  },
  {
   "cell_type": "code",
   "execution_count": 3,
   "id": "57117768",
   "metadata": {},
   "outputs": [
    {
     "data": {
      "text/plain": [
       "['THE', 'QUICK', 'BROWN', 'FOX', 'JUMPS', 'OVER', 'THE', 'LAZY', 'DOG']"
      ]
     },
     "execution_count": 3,
     "metadata": {},
     "output_type": "execute_result"
    }
   ],
   "source": [
    "words = ['The', 'quick', 'brown', 'fox', 'jumps', 'over', 'the', 'lazy', 'dog']\n",
    "\n",
    "def uppercasing(words) :                       \n",
    "            \n",
    "    upperSentence = []\n",
    "    \n",
    "    for word in words :                        #iterate trough the list and populate and empty one with the value in uppercase\n",
    "        upperSentence.append(word.upper())\n",
    "    \n",
    "    return upperSentence\n",
    "\n",
    "\n",
    "uppercasing(words)\n"
   ]
  },
  {
   "cell_type": "markdown",
   "id": "58fd9929",
   "metadata": {},
   "source": [
    "# 9.b"
   ]
  },
  {
   "cell_type": "code",
   "execution_count": 4,
   "id": "5fce8171",
   "metadata": {},
   "outputs": [
    {
     "data": {
      "text/plain": [
       "['the', 'quick', 'brown', 'fox', 'jumps', 'over', 'the', 'lazy', 'dog']"
      ]
     },
     "execution_count": 4,
     "metadata": {},
     "output_type": "execute_result"
    }
   ],
   "source": [
    "def lowercazing(words) :\n",
    "    \n",
    "    lowerSentence = []\n",
    "     \n",
    "    for word in words :                      #iterate trough the list and populate and empty one with the value in lowercase\n",
    "        lowerSentence.append(word.lower())\n",
    "    \n",
    "    return lowerSentence\n",
    "\n",
    "lowercazing(words)"
   ]
  },
  {
   "cell_type": "markdown",
   "id": "3d651818",
   "metadata": {},
   "source": [
    "# 9.c"
   ]
  },
  {
   "cell_type": "code",
   "execution_count": 28,
   "id": "0e4dfa8c",
   "metadata": {},
   "outputs": [
    {
     "data": {
      "text/plain": [
       "[3, 5, 5, 3, 5, 4, 3, 4, 3]"
      ]
     },
     "execution_count": 28,
     "metadata": {},
     "output_type": "execute_result"
    }
   ],
   "source": [
    "def lengthOfWords(words) :\n",
    "    \n",
    "    length = []\n",
    "    \n",
    "    for word in words :           ##iterate trough the list and populate and empty one with the value length of each word\n",
    "        length.append(len(word))\n",
    "    \n",
    "    return length\n",
    "\n",
    "lengthOfWords(words)"
   ]
  },
  {
   "cell_type": "markdown",
   "id": "9f860f1d",
   "metadata": {},
   "source": [
    "# 9.d"
   ]
  },
  {
   "cell_type": "code",
   "execution_count": 31,
   "id": "99bf2b0e",
   "metadata": {},
   "outputs": [
    {
     "name": "stdout",
     "output_type": "stream",
     "text": [
      "[['THE', 'the', 3], ['QUICK', 'quick', 5], ['BROWN', 'brown', 5], ['FOX', 'fox', 3], ['JUMPS', 'jumps', 5], ['OVER', 'over', 4], ['THE', 'the', 3], ['LAZY', 'lazy', 4], ['DOG', 'dog', 3]]"
     ]
    }
   ],
   "source": [
    "def combinationABC(words) :\n",
    "    \n",
    "    combination = []\n",
    "    \n",
    "    for word in words:                   #iterate trough the list and populate and empty one with an temporary sublist\n",
    "        \n",
    "        subcombo = []\n",
    "        \n",
    "        subcombo.append(word.upper())     #for each word in words, the sublist will get the word in upper, lower, and len()\n",
    "        subcombo.append(word.lower())\n",
    "        subcombo.append(len(word))\n",
    "        \n",
    "        combination.append(subcombo)     #once the 3 values are added to the sublist, they will be appended as one sublist of\n",
    "                                         #the main combination empty list. \n",
    "            \n",
    "    print(combination,end='')            #a new temporary empty sublist gets created with each iteration until complete the cycle\n",
    "   \n",
    "    #print('')\n",
    "    #print(subcombo,end='')\n",
    "\n",
    "combinationABC(words)\n",
    "    "
   ]
  }
 ],
 "metadata": {
  "kernelspec": {
   "display_name": "Python 3",
   "language": "python",
   "name": "python3"
  },
  "language_info": {
   "codemirror_mode": {
    "name": "ipython",
    "version": 3
   },
   "file_extension": ".py",
   "mimetype": "text/x-python",
   "name": "python",
   "nbconvert_exporter": "python",
   "pygments_lexer": "ipython3",
   "version": "3.8.8"
  }
 },
 "nbformat": 4,
 "nbformat_minor": 5
}
